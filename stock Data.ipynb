{
 "cells": [
  {
   "cell_type": "code",
   "execution_count": null,
   "id": "a69328bd",
   "metadata": {},
   "outputs": [],
   "source": [
    "import pandas as pd\n",
    "import lxml \n",
    "import numpy as np\n",
    "import matplotlib.pyplot as plt\n",
    "import seaborn as sns"
   ]
  },
  {
   "cell_type": "code",
   "execution_count": null,
   "id": "63137ec3",
   "metadata": {},
   "outputs": [],
   "source": [
    "#read the data\n",
    "dfs = pd.read_csv(r\"C:\\Users\\harmoort\\Downloads\\Predicting-stock-prices-for-large-cap-technology-companies-MLE-202-main\\Predicting-stock-prices-for-large-cap-technology-companies-MLE-202-main\\NASDAQ Datasets\\Nasdaq Stocks\\MSFT.csv\")\n",
    "dfs.head()"
   ]
  },
  {
   "cell_type": "code",
   "execution_count": null,
   "id": "9222adfe",
   "metadata": {},
   "outputs": [],
   "source": [
    "#defines the dataframes\n",
    "dfs.shape"
   ]
  },
  {
   "cell_type": "code",
   "execution_count": null,
   "id": "0c7aa7b3",
   "metadata": {},
   "outputs": [],
   "source": [
    "#check the null values\n",
    "dfs.isnull()"
   ]
  },
  {
   "cell_type": "code",
   "execution_count": 6,
   "id": "a3667bc3",
   "metadata": {},
   "outputs": [
    {
     "data": {
      "text/plain": [
       "<AxesSubplot:>"
      ]
     },
     "execution_count": 6,
     "metadata": {},
     "output_type": "execute_result"
    },
    {
     "data": {
      "image/png": "[encoded data removed]",
      "text/plain": [
       "<Figure size 432x288 with 2 Axes>"
      ]
     },
     "metadata": {
      "needs_background": "light"
     },
     "output_type": "display_data"
    }
   ],
   "source": [
    "#picturize the null values,missing values,Remove the missing values,clean the data\n",
    "sns.heatmap(dfs.isnull(),yticklabels=False)"
   ]
  },
  {
   "cell_type": "code",
   "execution_count": null,
   "id": "c90ef7fa",
   "metadata": {},
   "outputs": [],
   "source": [
    "#count the features with only one\n",
    "sns.set_style('whitegrid')\n",
    "sns.countplot(x='Date',data=dfs)"
   ]
  },
  {
   "cell_type": "code",
   "execution_count": null,
   "id": "02022214",
   "metadata": {},
   "outputs": [],
   "source": [
    "#count the features based on specific categorical values\n",
    "sns.set_style('whitegrid')\n",
    "sns.countplot(x='Date',hue='volume',data=dfs,palette='RdBu_r')"
   ]
  },
  {
   "cell_type": "code",
   "execution_count": null,
   "id": "6489cab5",
   "metadata": {},
   "outputs": [],
   "source": [
    "\n",
    "sns.set_style('whitegrid')\n",
    "sns.countplot(x='Date',hue='High',data=dfs,palette='rainbow')"
   ]
  },
  {
   "cell_type": "code",
   "execution_count": null,
   "id": "80e61499",
   "metadata": {},
   "outputs": [],
   "source": [
    "#picturize univariate based on histogram\n",
    "dfs['Date'].hist(bins=30,color='darkred',alpha=0.3)"
   ]
  },
  {
   "cell_type": "code",
   "execution_count": null,
   "id": "dae45b7d",
   "metadata": {},
   "outputs": [],
   "source": [
    "sns.countplot(x='Date',data=dfs)"
   ]
  },
  {
   "cell_type": "code",
   "execution_count": null,
   "id": "eb77428f",
   "metadata": {},
   "outputs": [],
   "source": [
    "dfs['Date'].hist(color='green',bins=40,figsize=(8,4))"
   ]
  },
  {
   "cell_type": "code",
   "execution_count": null,
   "id": "427584dd",
   "metadata": {},
   "outputs": [],
   "source": [
    "import cufflinks as cf\n",
    "cf.go_offline()"
   ]
  },
  {
   "cell_type": "code",
   "execution_count": null,
   "id": "3714bea3",
   "metadata": {},
   "outputs": [],
   "source": [
    "dfs['Date'].iplot(kind='hist',bins=30,color='green')"
   ]
  },
  {
   "cell_type": "code",
   "execution_count": null,
   "id": "5146aad5",
   "metadata": {},
   "outputs": [],
   "source": [
    "#picturize the bivariate based on histogram\n",
    "plt.figure(figsize=(12, 7))\n",
    "sns.boxplot(x='Date',y='volume',data=dfs,palette='winter')"
   ]
  },
  {
   "cell_type": "code",
   "execution_count": null,
   "id": "99c962de",
   "metadata": {},
   "outputs": [],
   "source": [
    "dfs['Date'] = dfs[['Date','volume']].apply(impute_age,axis=1)"
   ]
  },
  {
   "cell_type": "code",
   "execution_count": null,
   "id": "c4303359",
   "metadata": {},
   "outputs": [],
   "source": [
    "#picturize the categorical values\n",
    "sns.heatmap(dfs.isnull(),yticklabels=False)"
   ]
  },
  {
   "cell_type": "code",
   "execution_count": null,
   "id": "b76ff00d",
   "metadata": {},
   "outputs": [],
   "source": []
  }
 ],
 "metadata": {
  "kernelspec": {
   "display_name": "Python 3 (ipykernel)",
   "language": "python",
   "name": "python3"
  },
  "language_info": {
   "codemirror_mode": {
    "name": "ipython",
    "version": 3
   },
   "file_extension": ".py",
   "mimetype": "text/x-python",
   "name": "python",
   "nbconvert_exporter": "python",
   "pygments_lexer": "ipython3",
   "version": "3.7.1"
  }
 },
 "nbformat": 4,
 "nbformat_minor": 5
}
