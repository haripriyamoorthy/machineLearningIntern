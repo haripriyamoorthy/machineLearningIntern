{
 "cells": [
  {
   "cell_type": "code",
   "execution_count": 3,
   "id": "8be428e1",
   "metadata": {},
   "outputs": [
    {
     "ename": "SyntaxError",
     "evalue": "(unicode error) 'unicodeescape' codec can't decode bytes in position 3-4: truncated \\UXXXXXXXX escape (Temp/ipykernel_16340/3303282454.py, line 4)",
     "output_type": "error",
     "traceback": [
      "\u001b[1;36m  File \u001b[1;32m\"C:\\Users\\harmoort\\AppData\\Local\\Temp/ipykernel_16340/3303282454.py\"\u001b[1;36m, line \u001b[1;32m4\u001b[0m\n\u001b[1;33m    os.symlink(r\"C:\\Users\\harmoort\\Documents\\Ml\\machineLearningIntern\\Machine Laerning Intermediate\\Input\\data-for-ml-course\\test.csv\", \"rC:\\Users\\harmoort\\Documents\\Ml\\machineLearningIntern\\Machine Laerning Intermediate\\Input\\data-for-ml-course\\test.csv\")\u001b[0m\n\u001b[1;37m                                                                                                                                       ^\u001b[0m\n\u001b[1;31mSyntaxError\u001b[0m\u001b[1;31m:\u001b[0m (unicode error) 'unicodeescape' codec can't decode bytes in position 3-4: truncated \\UXXXXXXXX escape\n"
     ]
    }
   ],
   "source": [
    "import os\n",
    "if not os.path.exists(r\"C:\\Users\\harmoort\\Documents\\Ml\\machineLearningIntern\\Machine Laerning Intermediate\\Input\\data-for-ml-course\\train.csv\"):\n",
    "    os.symlink(r\"C:\\Users\\harmoort\\Documents\\Ml\\machineLearningIntern\\Machine Laerning Intermediate\\Input\\data-for-ml-course\\train.csv\", r\"C:\\Users\\harmoort\\Documents\\Ml\\machineLearningIntern\\Machine Laerning Intermediate\\Input\\data-for-ml-course\\train.csv\")  \n",
    "    os.symlink(r\"C:\\Users\\harmoort\\Documents\\Ml\\machineLearningIntern\\Machine Laerning Intermediate\\Input\\data-for-ml-course\\test.csv\", \"rC:\\Users\\harmoort\\Documents\\Ml\\machineLearningIntern\\Machine Laerning Intermediate\\Input\\data-for-ml-course\\test.csv\") \n",
    "from learntools.core import binder\n",
    "binder.bind(globals())\n",
    "from learntools.ml_intermediate.ex5 import *\n",
    "print(\"Setup Complete\")"
   ]
  },
  {
   "cell_type": "code",
   "execution_count": 5,
   "id": "e77c1359",
   "metadata": {},
   "outputs": [],
   "source": [
    "import pandas as pd\n",
    "from sklearn.model_selection import train_test_split\n",
    "\n",
    "# Read the data\n",
    "train_data = pd.read_csv(r\"C:\\Users\\harmoort\\Documents\\Ml\\machineLearningIntern\\Machine Laerning Intermediate\\Input\\data-for-ml-course\\train.csv\", index_col='Id')\n",
    "test_data = pd.read_csv(r\"C:\\Users\\harmoort\\Documents\\Ml\\machineLearningIntern\\Machine Laerning Intermediate\\Input\\data-for-ml-course\\test.csv\", index_col='Id')\n",
    "\n",
    "# Remove rows with missing target, separate target from predictors\n",
    "train_data.dropna(axis=0, subset=['SalePrice'], inplace=True)\n",
    "y = train_data.SalePrice              \n",
    "train_data.drop(['SalePrice'], axis=1, inplace=True)\n",
    "\n",
    "# Select numeric columns only\n",
    "numeric_cols = [cname for cname in train_data.columns if train_data[cname].dtype in ['int64', 'float64']]\n",
    "X = train_data[numeric_cols].copy()\n",
    "X_test = test_data[numeric_cols].copy()"
   ]
  },
  {
   "cell_type": "code",
   "execution_count": null,
   "id": "16f92d43",
   "metadata": {},
   "outputs": [],
   "source": []
  }
 ],
 "metadata": {
  "kernelspec": {
   "display_name": "Python 3 (ipykernel)",
   "language": "python",
   "name": "python3"
  },
  "language_info": {
   "codemirror_mode": {
    "name": "ipython",
    "version": 3
   },
   "file_extension": ".py",
   "mimetype": "text/x-python",
   "name": "python",
   "nbconvert_exporter": "python",
   "pygments_lexer": "ipython3",
   "version": "3.7.1"
  }
 },
 "nbformat": 4,
 "nbformat_minor": 5
}
