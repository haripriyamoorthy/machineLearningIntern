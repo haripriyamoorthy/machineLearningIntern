{
 "cells": [
  {
   "cell_type": "code",
   "execution_count": 1,
   "id": "55e8289f",
   "metadata": {},
   "outputs": [
    {
     "ename": "ModuleNotFoundError",
     "evalue": "No module named 'learntools'",
     "output_type": "error",
     "traceback": [
      "\u001b[1;31m---------------------------------------------------------------------------\u001b[0m",
      "\u001b[1;31mModuleNotFoundError\u001b[0m                       Traceback (most recent call last)",
      "\u001b[1;32m~\\AppData\\Local\\Temp/ipykernel_24056/1324538995.py\u001b[0m in \u001b[0;36m<module>\u001b[1;34m\u001b[0m\n\u001b[1;32m----> 1\u001b[1;33m \u001b[1;32mfrom\u001b[0m \u001b[0mlearntools\u001b[0m\u001b[1;33m.\u001b[0m\u001b[0mml_explainability\u001b[0m\u001b[1;33m.\u001b[0m\u001b[0mex4\u001b[0m \u001b[1;32mimport\u001b[0m \u001b[1;33m*\u001b[0m\u001b[1;33m\u001b[0m\u001b[1;33m\u001b[0m\u001b[0m\n\u001b[0m\u001b[0;32m      2\u001b[0m \u001b[0mprint\u001b[0m\u001b[1;33m(\u001b[0m\u001b[1;34m\"Setup Complete\"\u001b[0m\u001b[1;33m)\u001b[0m\u001b[1;33m\u001b[0m\u001b[1;33m\u001b[0m\u001b[0m\n",
      "\u001b[1;31mModuleNotFoundError\u001b[0m: No module named 'learntools'"
     ]
    }
   ],
   "source": [
    "from learntools.ml_explainability.ex4 import *\n",
    "print(\"Setup Complete\")"
   ]
  },
  {
   "cell_type": "code",
   "execution_count": 3,
   "id": "d629ba87",
   "metadata": {},
   "outputs": [
    {
     "data": {
      "text/plain": [
       "Index(['time_in_hospital', 'num_lab_procedures', 'num_procedures',\n",
       "       'num_medications', 'number_outpatient', 'number_emergency',\n",
       "       'number_inpatient', 'number_diagnoses', 'race_Caucasian',\n",
       "       'race_AfricanAmerican', 'gender_Female', 'age_[70-80)', 'age_[60-70)',\n",
       "       'age_[50-60)', 'age_[80-90)', 'age_[40-50)', 'payer_code_?',\n",
       "       'payer_code_MC', 'payer_code_HM', 'payer_code_SP', 'payer_code_BC',\n",
       "       'medical_specialty_?', 'medical_specialty_InternalMedicine',\n",
       "       'medical_specialty_Emergency/Trauma',\n",
       "       'medical_specialty_Family/GeneralPractice',\n",
       "       'medical_specialty_Cardiology', 'diag_1_428', 'diag_1_414',\n",
       "       'diag_1_786', 'diag_2_276', 'diag_2_428', 'diag_2_250', 'diag_2_427',\n",
       "       'diag_3_250', 'diag_3_401', 'diag_3_276', 'diag_3_428',\n",
       "       'max_glu_serum_None', 'A1Cresult_None', 'metformin_No',\n",
       "       'repaglinide_No', 'nateglinide_No', 'chlorpropamide_No',\n",
       "       'glimepiride_No', 'acetohexamide_No', 'glipizide_No', 'glyburide_No',\n",
       "       'tolbutamide_No', 'pioglitazone_No', 'rosiglitazone_No', 'acarbose_No',\n",
       "       'miglitol_No', 'troglitazone_No', 'tolazamide_No', 'examide_No',\n",
       "       'citoglipton_No', 'insulin_No', 'glyburide-metformin_No',\n",
       "       'glipizide-metformin_No', 'glimepiride-pioglitazone_No',\n",
       "       'metformin-rosiglitazone_No', 'metformin-pioglitazone_No', 'change_No',\n",
       "       'diabetesMed_Yes', 'readmitted'],\n",
       "      dtype='object')"
      ]
     },
     "execution_count": 3,
     "metadata": {},
     "output_type": "execute_result"
    }
   ],
   "source": [
    "import pandas as pd\n",
    "data = pd.read_csv(r'C:\\Users\\harmoort\\Documents\\Ml\\machineLearningIntern\\Machine Learning Explainability\\input\\hospital-readmissions\\train.csv')\n",
    "data.columns"
   ]
  },
  {
   "cell_type": "code",
   "execution_count": null,
   "id": "dd56e4cb",
   "metadata": {},
   "outputs": [],
   "source": []
  }
 ],
 "metadata": {
  "kernelspec": {
   "display_name": "Python 3 (ipykernel)",
   "language": "python",
   "name": "python3"
  },
  "language_info": {
   "codemirror_mode": {
    "name": "ipython",
    "version": 3
   },
   "file_extension": ".py",
   "mimetype": "text/x-python",
   "name": "python",
   "nbconvert_exporter": "python",
   "pygments_lexer": "ipython3",
   "version": "3.7.1"
  }
 },
 "nbformat": 4,
 "nbformat_minor": 5
}
